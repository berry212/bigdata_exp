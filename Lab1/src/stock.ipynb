{
 "cells": [
  {
   "cell_type": "code",
   "execution_count": 57,
   "metadata": {},
   "outputs": [],
   "source": [
    "import re, requests, os, wget, json\n",
    "from bs4 import BeautifulSoup\n",
    "import pandas as pd\n",
    "import numpy as np"
   ]
  },
  {
   "cell_type": "code",
   "execution_count": 58,
   "metadata": {},
   "outputs": [],
   "source": [
    "url = 'https://q.stock.sohu.com/hisHq'\n",
    "header = {\n",
    "    'user-agent': 'Mozilla/5.0 (Windows NT 10.0; Win64; x64) AppleWebKit/537.36 (KHTML, like Gecko) Chrome/128.0.0.0 Safari/537.36 Edg/128.0.0.0'\n",
    "}\n",
    "\n",
    "arg_code_list = []\n",
    "arg_start_end = 'start=20220906&end=20240906'\n",
    "outPath = '../out/stock'\n",
    "stock_name = []"
   ]
  },
  {
   "cell_type": "code",
   "execution_count": 62,
   "metadata": {},
   "outputs": [],
   "source": [
    "def get_code_name():\n",
    "    import requests\n",
    "    from bs4 import BeautifulSoup\n",
    "\n",
    "    # 目标网站的URL\n",
    "    url = 'https://q.stock.sohu.com/cn/bk_6678.shtml'\n",
    "    headers = {\n",
    "        'user-agent': 'Mozilla/5.0 (Windows NT 10.0; Win64; x64; rv:130.0) Gecko/20100101 Firefox/130.0'\n",
    "    }\n",
    "\n",
    "    # 发送HTTP请求\n",
    "    response = requests.get(url,headers=headers)\n",
    "\n",
    "    # 检查请求是否成功\n",
    "    if response.status_code == 200:\n",
    "        # 使用BeautifulSoup解析HTML内容\n",
    "        soup = BeautifulSoup(response.text, 'html.parser')\n",
    "        \n",
    "        # 找到所有class为'e1'的<td>标签\n",
    "        td_tags = soup.find_all('td', attrs={'class': 'e1'})\n",
    "        td_tags_e2 = soup.find_all('td', attrs={'class': 'e2'})\n",
    "        \n",
    "        # 存储数据的列表\n",
    "        all_codes = []\n",
    "        all_names = []\n",
    "        \n",
    "        # 遍历所有找到的<td>标签\n",
    "        for tag in td_tags:\n",
    "            # 获取<td>标签中的文本\n",
    "            data = tag.get_text()\n",
    "            \n",
    "            # 如果文本不为空，则将其添加到列表中\n",
    "            if data != '':\n",
    "                all_codes.append(data)\n",
    "                \n",
    "        for tag in td_tags_e2:\n",
    "            data = tag.get_text()\n",
    "            if data != '':\n",
    "                all_names.append(data)\n",
    "                \n",
    "        # 打印结果\n",
    "        print(all_codes)\n",
    "        print(all_names)\n",
    "        return all_codes, all_names\n",
    "    else:\n",
    "        print('Failed to retrieve the webpage')\n",
    "        return None, None"
   ]
  },
  {
   "cell_type": "code",
   "execution_count": 63,
   "metadata": {},
   "outputs": [
    {
     "name": "stdout",
     "output_type": "stream",
     "text": [
      "['300567', '688589', '688709', '300184', '600171', '002654', '002559', '688347', '688611', '002077', '300475', '001309', '688652', '300857', '300551', '000016', '688262', '300903', '300236', '300042', '600667', '688416', '300302', '300131', '688123', '603986', '002185', '000021', '688525', '002409', '300053', '002183', '002579', '300455', '688110', '688008', '002413', '301099', '300672', '600584', '300223', '688627', '000818', '301306', '301308', '002049', '002213', '002119', '688766', '688478']\n",
      "['精测电子', '力合微', '成都华微', '力源信息', '上海贝岭', '万润科技', '亚威股份', '华虹公司', '杭州柯林', '大港股份', '香农芯创', '德明利', '京仪装备', '协创数据', '古鳌科技', '深康佳Ａ', '国芯科技', '科翔股份', '上海新阳', '朗科科技', '太极实业', '恒烁股份', '同有科技', '英唐智控', '聚辰股份', '兆易创新', '华天科技', '深科技', '佰维存储', '雅克科技', '航宇微', '怡亚通', '中京电子', '航天智装', '东芯股份', '澜起科技', '雷科防务', '雅创电子', '国科微', '长电科技', '北京君正', '精智达', '航锦科技', '西测测试', '江波龙', '紫光国微', '大为股份', '康强电子', '普冉股份', '晶升股份']\n"
     ]
    }
   ],
   "source": [
    "arg_code_list, stock_name = get_code_name()"
   ]
  },
  {
   "cell_type": "code",
   "execution_count": 64,
   "metadata": {},
   "outputs": [
    {
     "name": "stdout",
     "output_type": "stream",
     "text": [
      "下载成功 ../out/stock\\300567精测电子.csv\n",
      "下载成功 ../out/stock\\688589力合微.csv\n",
      "下载成功 ../out/stock\\688709成都华微.csv\n",
      "下载成功 ../out/stock\\300184力源信息.csv\n",
      "下载成功 ../out/stock\\600171上海贝岭.csv\n",
      "下载成功 ../out/stock\\002654万润科技.csv\n",
      "下载成功 ../out/stock\\002559亚威股份.csv\n",
      "下载成功 ../out/stock\\688347华虹公司.csv\n",
      "下载成功 ../out/stock\\688611杭州柯林.csv\n",
      "下载成功 ../out/stock\\002077大港股份.csv\n",
      "下载成功 ../out/stock\\300475香农芯创.csv\n",
      "下载成功 ../out/stock\\001309德明利.csv\n",
      "下载成功 ../out/stock\\688652京仪装备.csv\n",
      "下载成功 ../out/stock\\300857协创数据.csv\n",
      "下载成功 ../out/stock\\300551古鳌科技.csv\n",
      "下载成功 ../out/stock\\000016深康佳Ａ.csv\n",
      "下载成功 ../out/stock\\688262国芯科技.csv\n",
      "下载成功 ../out/stock\\300903科翔股份.csv\n",
      "下载成功 ../out/stock\\300236上海新阳.csv\n",
      "下载成功 ../out/stock\\300042朗科科技.csv\n",
      "下载成功 ../out/stock\\600667太极实业.csv\n",
      "下载成功 ../out/stock\\688416恒烁股份.csv\n",
      "下载成功 ../out/stock\\300302同有科技.csv\n",
      "下载成功 ../out/stock\\300131英唐智控.csv\n",
      "下载成功 ../out/stock\\688123聚辰股份.csv\n",
      "下载成功 ../out/stock\\603986兆易创新.csv\n",
      "下载成功 ../out/stock\\002185华天科技.csv\n",
      "下载成功 ../out/stock\\000021深科技.csv\n",
      "下载成功 ../out/stock\\688525佰维存储.csv\n",
      "下载成功 ../out/stock\\002409雅克科技.csv\n",
      "下载成功 ../out/stock\\300053航宇微.csv\n",
      "下载成功 ../out/stock\\002183怡亚通.csv\n",
      "下载成功 ../out/stock\\002579中京电子.csv\n",
      "下载成功 ../out/stock\\300455航天智装.csv\n",
      "下载成功 ../out/stock\\688110东芯股份.csv\n",
      "下载成功 ../out/stock\\688008澜起科技.csv\n",
      "下载成功 ../out/stock\\002413雷科防务.csv\n",
      "下载成功 ../out/stock\\301099雅创电子.csv\n",
      "下载成功 ../out/stock\\300672国科微.csv\n",
      "下载成功 ../out/stock\\600584长电科技.csv\n",
      "下载成功 ../out/stock\\300223北京君正.csv\n",
      "下载成功 ../out/stock\\688627精智达.csv\n",
      "下载成功 ../out/stock\\000818航锦科技.csv\n",
      "下载成功 ../out/stock\\301306西测测试.csv\n",
      "下载成功 ../out/stock\\301308江波龙.csv\n",
      "下载成功 ../out/stock\\002049紫光国微.csv\n",
      "下载成功 ../out/stock\\002213大为股份.csv\n",
      "下载成功 ../out/stock\\002119康强电子.csv\n",
      "下载成功 ../out/stock\\688766普冉股份.csv\n",
      "下载成功 ../out/stock\\688478晶升股份.csv\n"
     ]
    }
   ],
   "source": [
    "for arg_code, name in zip(arg_code_list, stock_name):\n",
    "    get_url = url+ '?' + 'code=cn_'+ arg_code + '&' + arg_start_end\n",
    "    out_json = os.path.join(outPath, arg_code + '.json')\n",
    "    # 下载json\n",
    "    resp = requests.get(get_url, headers=header)\n",
    "    if resp.status_code == 200:\n",
    "        # 提取hq那一项\n",
    "        data = json.loads(resp.text)[0]['hq']\n",
    "\n",
    "        # parse json to DataFrame\n",
    "        df = pd.DataFrame(np.array(data)[:, :10], columns=['日期', '开盘', '收盘', '涨跌额', '涨跌幅', '最低', '最高', '成交量(手)', '成交金额(万)', '换手率'])\n",
    "\n",
    "        # DF to csv\n",
    "        out_csv = os.path.join(outPath, arg_code + name + '.csv')\n",
    "        df.to_csv(out_csv, index=False, encoding='utf-8')\n",
    "        \n",
    "        print(f'下载成功 {out_csv}')\n",
    "    else:\n",
    "        print(f'下载失败{arg_code}')"
   ]
  },
  {
   "cell_type": "code",
   "execution_count": null,
   "metadata": {},
   "outputs": [],
   "source": []
  }
 ],
 "metadata": {
  "kernelspec": {
   "display_name": "Python 3",
   "language": "python",
   "name": "python3"
  },
  "language_info": {
   "codemirror_mode": {
    "name": "ipython",
    "version": 3
   },
   "file_extension": ".py",
   "mimetype": "text/x-python",
   "name": "python",
   "nbconvert_exporter": "python",
   "pygments_lexer": "ipython3",
   "version": "3.12.2"
  }
 },
 "nbformat": 4,
 "nbformat_minor": 2
}
