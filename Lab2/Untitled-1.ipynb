{
 "cells": [
  {
   "cell_type": "code",
   "execution_count": 1,
   "metadata": {},
   "outputs": [],
   "source": [
    "import pandas as pd\n",
    "import numpy as np\n",
    "import matplotlib.pyplot as plt\n",
    "import seaborn as sns\n",
    "import warnings\n",
    "warnings.filterwarnings('ignore')\n",
    "\n",
    "# 导入数据\n",
    "data_train = pd.read_csv('data/train.csv')\n",
    "data_test = pd.read_csv('data/testA.csv')"
   ]
  },
  {
   "cell_type": "code",
   "execution_count": 2,
   "metadata": {},
   "outputs": [
    {
     "data": {
      "text/plain": [
       "((800000, 47), (200000, 46))"
      ]
     },
     "execution_count": 2,
     "metadata": {},
     "output_type": "execute_result"
    }
   ],
   "source": [
    "data_train.shape, data_test.shape"
   ]
  },
  {
   "cell_type": "code",
   "execution_count": 3,
   "metadata": {},
   "outputs": [
    {
     "data": {
      "text/html": [
       "<div>\n",
       "<style scoped>\n",
       "    .dataframe tbody tr th:only-of-type {\n",
       "        vertical-align: middle;\n",
       "    }\n",
       "\n",
       "    .dataframe tbody tr th {\n",
       "        vertical-align: top;\n",
       "    }\n",
       "\n",
       "    .dataframe thead th {\n",
       "        text-align: right;\n",
       "    }\n",
       "</style>\n",
       "<table border=\"1\" class=\"dataframe\">\n",
       "  <thead>\n",
       "    <tr style=\"text-align: right;\">\n",
       "      <th></th>\n",
       "      <th>id</th>\n",
       "      <th>loanAmnt</th>\n",
       "      <th>term</th>\n",
       "      <th>interestRate</th>\n",
       "      <th>installment</th>\n",
       "      <th>grade</th>\n",
       "      <th>subGrade</th>\n",
       "      <th>employmentTitle</th>\n",
       "      <th>employmentLength</th>\n",
       "      <th>homeOwnership</th>\n",
       "      <th>...</th>\n",
       "      <th>n6</th>\n",
       "      <th>n7</th>\n",
       "      <th>n8</th>\n",
       "      <th>n9</th>\n",
       "      <th>n10</th>\n",
       "      <th>n11</th>\n",
       "      <th>n12</th>\n",
       "      <th>n13</th>\n",
       "      <th>n14</th>\n",
       "      <th>source</th>\n",
       "    </tr>\n",
       "  </thead>\n",
       "  <tbody>\n",
       "    <tr>\n",
       "      <th>0</th>\n",
       "      <td>0</td>\n",
       "      <td>35000.0</td>\n",
       "      <td>5</td>\n",
       "      <td>19.52</td>\n",
       "      <td>917.97</td>\n",
       "      <td>E</td>\n",
       "      <td>E2</td>\n",
       "      <td>320.0</td>\n",
       "      <td>2 years</td>\n",
       "      <td>2</td>\n",
       "      <td>...</td>\n",
       "      <td>8.0</td>\n",
       "      <td>4.0</td>\n",
       "      <td>12.0</td>\n",
       "      <td>2.0</td>\n",
       "      <td>7.0</td>\n",
       "      <td>0.0</td>\n",
       "      <td>0.0</td>\n",
       "      <td>0.0</td>\n",
       "      <td>2.0</td>\n",
       "      <td>train</td>\n",
       "    </tr>\n",
       "    <tr>\n",
       "      <th>1</th>\n",
       "      <td>1</td>\n",
       "      <td>18000.0</td>\n",
       "      <td>5</td>\n",
       "      <td>18.49</td>\n",
       "      <td>461.90</td>\n",
       "      <td>D</td>\n",
       "      <td>D2</td>\n",
       "      <td>219843.0</td>\n",
       "      <td>5 years</td>\n",
       "      <td>0</td>\n",
       "      <td>...</td>\n",
       "      <td>NaN</td>\n",
       "      <td>NaN</td>\n",
       "      <td>NaN</td>\n",
       "      <td>NaN</td>\n",
       "      <td>13.0</td>\n",
       "      <td>NaN</td>\n",
       "      <td>NaN</td>\n",
       "      <td>NaN</td>\n",
       "      <td>NaN</td>\n",
       "      <td>train</td>\n",
       "    </tr>\n",
       "    <tr>\n",
       "      <th>2</th>\n",
       "      <td>2</td>\n",
       "      <td>12000.0</td>\n",
       "      <td>5</td>\n",
       "      <td>16.99</td>\n",
       "      <td>298.17</td>\n",
       "      <td>D</td>\n",
       "      <td>D3</td>\n",
       "      <td>31698.0</td>\n",
       "      <td>8 years</td>\n",
       "      <td>0</td>\n",
       "      <td>...</td>\n",
       "      <td>21.0</td>\n",
       "      <td>4.0</td>\n",
       "      <td>5.0</td>\n",
       "      <td>3.0</td>\n",
       "      <td>11.0</td>\n",
       "      <td>0.0</td>\n",
       "      <td>0.0</td>\n",
       "      <td>0.0</td>\n",
       "      <td>4.0</td>\n",
       "      <td>train</td>\n",
       "    </tr>\n",
       "    <tr>\n",
       "      <th>3</th>\n",
       "      <td>3</td>\n",
       "      <td>11000.0</td>\n",
       "      <td>3</td>\n",
       "      <td>7.26</td>\n",
       "      <td>340.96</td>\n",
       "      <td>A</td>\n",
       "      <td>A4</td>\n",
       "      <td>46854.0</td>\n",
       "      <td>10+ years</td>\n",
       "      <td>1</td>\n",
       "      <td>...</td>\n",
       "      <td>4.0</td>\n",
       "      <td>7.0</td>\n",
       "      <td>21.0</td>\n",
       "      <td>6.0</td>\n",
       "      <td>9.0</td>\n",
       "      <td>0.0</td>\n",
       "      <td>0.0</td>\n",
       "      <td>0.0</td>\n",
       "      <td>1.0</td>\n",
       "      <td>train</td>\n",
       "    </tr>\n",
       "    <tr>\n",
       "      <th>4</th>\n",
       "      <td>4</td>\n",
       "      <td>3000.0</td>\n",
       "      <td>3</td>\n",
       "      <td>12.99</td>\n",
       "      <td>101.07</td>\n",
       "      <td>C</td>\n",
       "      <td>C2</td>\n",
       "      <td>54.0</td>\n",
       "      <td>NaN</td>\n",
       "      <td>1</td>\n",
       "      <td>...</td>\n",
       "      <td>9.0</td>\n",
       "      <td>10.0</td>\n",
       "      <td>15.0</td>\n",
       "      <td>7.0</td>\n",
       "      <td>12.0</td>\n",
       "      <td>0.0</td>\n",
       "      <td>0.0</td>\n",
       "      <td>0.0</td>\n",
       "      <td>4.0</td>\n",
       "      <td>train</td>\n",
       "    </tr>\n",
       "  </tbody>\n",
       "</table>\n",
       "<p>5 rows × 47 columns</p>\n",
       "</div>"
      ],
      "text/plain": [
       "   id  loanAmnt  term  interestRate  installment grade subGrade  \\\n",
       "0   0   35000.0     5         19.52       917.97     E       E2   \n",
       "1   1   18000.0     5         18.49       461.90     D       D2   \n",
       "2   2   12000.0     5         16.99       298.17     D       D3   \n",
       "3   3   11000.0     3          7.26       340.96     A       A4   \n",
       "4   4    3000.0     3         12.99       101.07     C       C2   \n",
       "\n",
       "   employmentTitle employmentLength  homeOwnership  ...    n6    n7    n8  \\\n",
       "0            320.0          2 years              2  ...   8.0   4.0  12.0   \n",
       "1         219843.0          5 years              0  ...   NaN   NaN   NaN   \n",
       "2          31698.0          8 years              0  ...  21.0   4.0   5.0   \n",
       "3          46854.0        10+ years              1  ...   4.0   7.0  21.0   \n",
       "4             54.0              NaN              1  ...   9.0  10.0  15.0   \n",
       "\n",
       "    n9   n10  n11  n12  n13  n14  source  \n",
       "0  2.0   7.0  0.0  0.0  0.0  2.0   train  \n",
       "1  NaN  13.0  NaN  NaN  NaN  NaN   train  \n",
       "2  3.0  11.0  0.0  0.0  0.0  4.0   train  \n",
       "3  6.0   9.0  0.0  0.0  0.0  1.0   train  \n",
       "4  7.0  12.0  0.0  0.0  0.0  4.0   train  \n",
       "\n",
       "[5 rows x 47 columns]"
      ]
     },
     "execution_count": 3,
     "metadata": {},
     "output_type": "execute_result"
    }
   ],
   "source": [
    "# 为了方便后续处理，我们将训练集和测试集合并\n",
    "\n",
    "# 提取目标变量\n",
    "target = data_train['isDefault']\n",
    "data_train.drop(['isDefault'], axis=1, inplace=True)\n",
    "\n",
    "data_train['source'] = 'train'\n",
    "data_test['source'] = 'test'\n",
    "data = pd.concat([data_train, data_test], ignore_index=True)\n",
    "\n",
    "data.head()"
   ]
  },
  {
   "cell_type": "code",
   "execution_count": 4,
   "metadata": {},
   "outputs": [
    {
     "name": "stdout",
     "output_type": "stream",
     "text": [
      "<class 'pandas.core.frame.DataFrame'>\n",
      "RangeIndex: 1000000 entries, 0 to 999999\n",
      "Data columns (total 47 columns):\n",
      " #   Column              Non-Null Count    Dtype  \n",
      "---  ------              --------------    -----  \n",
      " 0   id                  1000000 non-null  int64  \n",
      " 1   loanAmnt            1000000 non-null  float64\n",
      " 2   term                1000000 non-null  int64  \n",
      " 3   interestRate        1000000 non-null  float64\n",
      " 4   installment         1000000 non-null  float64\n",
      " 5   grade               1000000 non-null  object \n",
      " 6   subGrade            1000000 non-null  object \n",
      " 7   employmentTitle     999999 non-null   float64\n",
      " 8   employmentLength    941459 non-null   object \n",
      " 9   homeOwnership       1000000 non-null  int64  \n",
      " 10  annualIncome        1000000 non-null  float64\n",
      " 11  verificationStatus  1000000 non-null  int64  \n",
      " 12  issueDate           1000000 non-null  object \n",
      " 13  purpose             1000000 non-null  int64  \n",
      " 14  postCode            999999 non-null   float64\n",
      " 15  regionCode          1000000 non-null  int64  \n",
      " 16  dti                 999700 non-null   float64\n",
      " 17  delinquency_2years  1000000 non-null  float64\n",
      " 18  ficoRangeLow        1000000 non-null  float64\n",
      " 19  ficoRangeHigh       1000000 non-null  float64\n",
      " 20  openAcc             1000000 non-null  float64\n",
      " 21  pubRec              1000000 non-null  float64\n",
      " 22  pubRecBankruptcies  999479 non-null   float64\n",
      " 23  revolBal            1000000 non-null  float64\n",
      " 24  revolUtil           999342 non-null   float64\n",
      " 25  totalAcc            1000000 non-null  float64\n",
      " 26  initialListStatus   1000000 non-null  int64  \n",
      " 27  applicationType     1000000 non-null  int64  \n",
      " 28  earliesCreditLine   1000000 non-null  object \n",
      " 29  title               999999 non-null   float64\n",
      " 30  policyCode          1000000 non-null  float64\n",
      " 31  n0                  949619 non-null   float64\n",
      " 32  n1                  949619 non-null   float64\n",
      " 33  n2                  949619 non-null   float64\n",
      " 34  n3                  949619 non-null   float64\n",
      " 35  n4                  958367 non-null   float64\n",
      " 36  n5                  949619 non-null   float64\n",
      " 37  n6                  949619 non-null   float64\n",
      " 38  n7                  949619 non-null   float64\n",
      " 39  n8                  949618 non-null   float64\n",
      " 40  n9                  949619 non-null   float64\n",
      " 41  n10                 958367 non-null   float64\n",
      " 42  n11                 912673 non-null   float64\n",
      " 43  n12                 949619 non-null   float64\n",
      " 44  n13                 949619 non-null   float64\n",
      " 45  n14                 949619 non-null   float64\n",
      " 46  source              1000000 non-null  object \n",
      "dtypes: float64(33), int64(8), object(6)\n",
      "memory usage: 358.6+ MB\n"
     ]
    }
   ],
   "source": [
    "data.info()"
   ]
  },
  {
   "cell_type": "code",
   "execution_count": 5,
   "metadata": {},
   "outputs": [
    {
     "data": {
      "text/plain": [
       "employmentTitle       0.000001\n",
       "postCode              0.000001\n",
       "title                 0.000001\n",
       "dti                   0.000300\n",
       "pubRecBankruptcies    0.000521\n",
       "revolUtil             0.000658\n",
       "n10                   0.041633\n",
       "n4                    0.041633\n",
       "n12                   0.050381\n",
       "n9                    0.050381\n",
       "n7                    0.050381\n",
       "n6                    0.050381\n",
       "n3                    0.050381\n",
       "n13                   0.050381\n",
       "n2                    0.050381\n",
       "n1                    0.050381\n",
       "n0                    0.050381\n",
       "n5                    0.050381\n",
       "n14                   0.050381\n",
       "n8                    0.050382\n",
       "employmentLength      0.058541\n",
       "n11                   0.087327\n",
       "dtype: float64"
      ]
     },
     "execution_count": 5,
     "metadata": {},
     "output_type": "execute_result"
    }
   ],
   "source": [
    "# 查看有哪些缺失值，并且对缺失值数量进行排序\n",
    "missing = data.isnull().sum() / len(data)\n",
    "missing = missing[missing > 0]\n",
    "missing.sort_values(inplace=True)\n",
    "missing"
   ]
  },
  {
   "cell_type": "code",
   "execution_count": 6,
   "metadata": {},
   "outputs": [
    {
     "data": {
      "text/plain": [
       "<Axes: >"
      ]
     },
     "execution_count": 6,
     "metadata": {},
     "output_type": "execute_result"
    },
    {
     "data": {
      "image/png": "[encoded data removed]",
      "text/plain": [
       "<Figure size 640x480 with 1 Axes>"
      ]
     },
     "metadata": {},
     "output_type": "display_data"
    }
   ],
   "source": [
    "# 进行可视化\n",
    "missing.plot.bar()"
   ]
  },
  {
   "cell_type": "code",
   "execution_count": 7,
   "metadata": {},
   "outputs": [
    {
     "data": {
      "text/plain": [
       "(Index(['grade', 'subGrade', 'employmentLength', 'issueDate',\n",
       "        'earliesCreditLine', 'source'],\n",
       "       dtype='object'),\n",
       " Index(['annualIncome', 'applicationType', 'delinquency_2years', 'dti',\n",
       "        'employmentTitle', 'ficoRangeHigh', 'ficoRangeLow', 'homeOwnership',\n",
       "        'id', 'initialListStatus', 'installment', 'interestRate', 'loanAmnt',\n",
       "        'n0', 'n1', 'n10', 'n11', 'n12', 'n13', 'n14', 'n2', 'n3', 'n4', 'n5',\n",
       "        'n6', 'n7', 'n8', 'n9', 'openAcc', 'policyCode', 'postCode', 'pubRec',\n",
       "        'pubRecBankruptcies', 'purpose', 'regionCode', 'revolBal', 'revolUtil',\n",
       "        'term', 'title', 'totalAcc', 'verificationStatus'],\n",
       "       dtype='object'))"
      ]
     },
     "execution_count": 7,
     "metadata": {},
     "output_type": "execute_result"
    }
   ],
   "source": [
    "# 将离散型变量和连续型变量分开\n",
    "cate = data.select_dtypes(include='object').columns\n",
    "numerical = data.columns.difference(cate)\n",
    "\n",
    "cate, numerical"
   ]
  },
  {
   "cell_type": "code",
   "execution_count": 8,
   "metadata": {},
   "outputs": [],
   "source": [
    "# 对离散型变量进行缺失值填充，采用众数填充\n",
    "for c in cate:\n",
    "    data[c].fillna(data[c].mode()[0], inplace=True)\n",
    "    \n",
    "# 对连续型变量进行缺失值填充，采用均值填充\n",
    "for n in numerical:\n",
    "    data[n].fillna(data[n].mean(), inplace=True)"
   ]
  },
  {
   "cell_type": "code",
   "execution_count": 9,
   "metadata": {},
   "outputs": [
    {
     "data": {
      "text/plain": [
       "0"
      ]
     },
     "execution_count": 9,
     "metadata": {},
     "output_type": "execute_result"
    }
   ],
   "source": [
    "data.isnull().any().sum()"
   ]
  },
  {
   "cell_type": "code",
   "execution_count": 10,
   "metadata": {},
   "outputs": [
    {
     "data": {
      "text/plain": [
       "float64    33\n",
       "int64       8\n",
       "object      6\n",
       "Name: count, dtype: int64"
      ]
     },
     "execution_count": 10,
     "metadata": {},
     "output_type": "execute_result"
    }
   ],
   "source": [
    "# 查看数据类型\n",
    "data.dtypes.value_counts()"
   ]
  },
  {
   "cell_type": "code",
   "execution_count": 11,
   "metadata": {},
   "outputs": [
    {
     "data": {
      "text/plain": [
       "grade                  7\n",
       "subGrade              35\n",
       "employmentLength      11\n",
       "issueDate            139\n",
       "earliesCreditLine    726\n",
       "source                 2\n",
       "dtype: int64"
      ]
     },
     "execution_count": 11,
     "metadata": {},
     "output_type": "execute_result"
    }
   ],
   "source": [
    "#查看所有的object类型\n",
    "data.select_dtypes(include='object').apply(pd.Series.nunique, axis=0)"
   ]
  },
  {
   "cell_type": "code",
   "execution_count": 12,
   "metadata": {},
   "outputs": [
    {
     "data": {
      "text/html": [
       "<div>\n",
       "<style scoped>\n",
       "    .dataframe tbody tr th:only-of-type {\n",
       "        vertical-align: middle;\n",
       "    }\n",
       "\n",
       "    .dataframe tbody tr th {\n",
       "        vertical-align: top;\n",
       "    }\n",
       "\n",
       "    .dataframe thead th {\n",
       "        text-align: right;\n",
       "    }\n",
       "</style>\n",
       "<table border=\"1\" class=\"dataframe\">\n",
       "  <thead>\n",
       "    <tr style=\"text-align: right;\">\n",
       "      <th></th>\n",
       "      <th>grade</th>\n",
       "      <th>subGrade</th>\n",
       "      <th>employmentLength</th>\n",
       "      <th>source</th>\n",
       "    </tr>\n",
       "  </thead>\n",
       "  <tbody>\n",
       "    <tr>\n",
       "      <th>0</th>\n",
       "      <td>4</td>\n",
       "      <td>21</td>\n",
       "      <td>2</td>\n",
       "      <td>1</td>\n",
       "    </tr>\n",
       "    <tr>\n",
       "      <th>1</th>\n",
       "      <td>3</td>\n",
       "      <td>16</td>\n",
       "      <td>5</td>\n",
       "      <td>1</td>\n",
       "    </tr>\n",
       "    <tr>\n",
       "      <th>2</th>\n",
       "      <td>3</td>\n",
       "      <td>17</td>\n",
       "      <td>8</td>\n",
       "      <td>1</td>\n",
       "    </tr>\n",
       "    <tr>\n",
       "      <th>3</th>\n",
       "      <td>0</td>\n",
       "      <td>3</td>\n",
       "      <td>1</td>\n",
       "      <td>1</td>\n",
       "    </tr>\n",
       "    <tr>\n",
       "      <th>4</th>\n",
       "      <td>2</td>\n",
       "      <td>11</td>\n",
       "      <td>1</td>\n",
       "      <td>1</td>\n",
       "    </tr>\n",
       "  </tbody>\n",
       "</table>\n",
       "</div>"
      ],
      "text/plain": [
       "   grade  subGrade  employmentLength  source\n",
       "0      4        21                 2       1\n",
       "1      3        16                 5       1\n",
       "2      3        17                 8       1\n",
       "3      0         3                 1       1\n",
       "4      2        11                 1       1"
      ]
     },
     "execution_count": 12,
     "metadata": {},
     "output_type": "execute_result"
    }
   ],
   "source": [
    "# 获取所有的object类型列，排除掉两个时间变量issueDate和earliesCreditLine\n",
    "object_cols = data.select_dtypes(include='object').columns\n",
    "object_cols = object_cols.drop(['issueDate', 'earliesCreditLine'])\n",
    "\n",
    "\n",
    "\n",
    "# 循环遍历每一列，将其转换为数值类型\n",
    "for col in object_cols:\n",
    "    unique_values = sorted(data[col].unique())\n",
    "    mapping = dict(zip(unique_values, range(len(unique_values))))\n",
    "    data[col] = data[col].map(mapping)\n",
    "\n",
    "# 查看转换后的结果\n",
    "data[object_cols].head()"
   ]
  },
  {
   "cell_type": "code",
   "execution_count": 13,
   "metadata": {},
   "outputs": [
    {
     "data": {
      "text/plain": [
       "earliesCreditLine\n",
       "1944        2\n",
       "1945        1\n",
       "1946        2\n",
       "1949        1\n",
       "1950        7\n",
       "        ...  \n",
       "2011    12282\n",
       "2012     8304\n",
       "2013     4375\n",
       "2014     1863\n",
       "2015      251\n",
       "Name: count, Length: 70, dtype: int64"
      ]
     },
     "execution_count": 13,
     "metadata": {},
     "output_type": "execute_result"
    }
   ],
   "source": [
    "data['earliesCreditLine'].sample(5)\n",
    "\n",
    "# 选取earliesCreditLine中的年份\n",
    "data['earliesCreditLine'] = data['earliesCreditLine'].apply(lambda x: int(x[-4:]))\n",
    "\n",
    "data['earliesCreditLine'].value_counts(dropna=False).sort_index()"
   ]
  },
  {
   "cell_type": "code",
   "execution_count": 14,
   "metadata": {},
   "outputs": [
    {
     "data": {
      "text/plain": [
       "issueDate\n",
       "2007       191\n",
       "2008      1139\n",
       "2009      3528\n",
       "2010      8545\n",
       "2011     16201\n",
       "2012     39805\n",
       "2013    100208\n",
       "2014    165632\n",
       "2015    279002\n",
       "2016    218070\n",
       "2017    125796\n",
       "2018     41883\n",
       "Name: count, dtype: int64"
      ]
     },
     "execution_count": 14,
     "metadata": {},
     "output_type": "execute_result"
    }
   ],
   "source": [
    "data['issueDate'].sample(5)\n",
    "\n",
    "data['issueDate'] = data['issueDate'].apply(lambda x: int(x[0:4]))\n",
    "\n",
    "data['issueDate'].value_counts(dropna=False).sort_index()"
   ]
  },
  {
   "cell_type": "code",
   "execution_count": 15,
   "metadata": {},
   "outputs": [
    {
     "ename": "ModuleNotFoundError",
     "evalue": "No module named 'pandas_profiling'",
     "output_type": "error",
     "traceback": [
      "\u001b[1;31m---------------------------------------------------------------------------\u001b[0m",
      "\u001b[1;31mModuleNotFoundError\u001b[0m                       Traceback (most recent call last)",
      "Cell \u001b[1;32mIn[15], line 2\u001b[0m\n\u001b[0;32m      1\u001b[0m \u001b[38;5;66;03m# pip install pandas_profiling\u001b[39;00m\n\u001b[1;32m----> 2\u001b[0m \u001b[38;5;28;01mimport\u001b[39;00m \u001b[38;5;21;01mpandas_profiling\u001b[39;00m\n\u001b[0;32m      3\u001b[0m \u001b[38;5;28;01mfrom\u001b[39;00m \u001b[38;5;21;01mpydantic_settings\u001b[39;00m \u001b[38;5;28;01mimport\u001b[39;00m BaseSettings\n\u001b[0;32m      5\u001b[0m pfr \u001b[38;5;241m=\u001b[39m pandas_profiling\u001b[38;5;241m.\u001b[39mProfileReport(data_train)\n",
      "\u001b[1;31mModuleNotFoundError\u001b[0m: No module named 'pandas_profiling'"
     ]
    }
   ],
   "source": [
    "# pip install pandas_profiling\n",
    "import pandas_profiling\n",
    "from pydantic_settings import BaseSettings\n",
    "\n",
    "pfr = pandas_profiling.ProfileReport(data_train)\n",
    "pfr.to_file(\"./example.html\")"
   ]
  }
 ],
 "metadata": {
  "kernelspec": {
   "display_name": "Python 3",
   "language": "python",
   "name": "python3"
  },
  "language_info": {
   "codemirror_mode": {
    "name": "ipython",
    "version": 3
   },
   "file_extension": ".py",
   "mimetype": "text/x-python",
   "name": "python",
   "nbconvert_exporter": "python",
   "pygments_lexer": "ipython3",
   "version": "3.11.8"
  }
 },
 "nbformat": 4,
 "nbformat_minor": 2
}
